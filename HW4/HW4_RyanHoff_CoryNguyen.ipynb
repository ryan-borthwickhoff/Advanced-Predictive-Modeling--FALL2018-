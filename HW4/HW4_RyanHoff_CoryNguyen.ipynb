{
 "cells": [
  {
   "cell_type": "markdown",
   "metadata": {},
   "source": [
    "##### # <p style=\"text-align: center;\">MIS382: Advanced Predictive Modeling</p>\n",
    "# <p style=\"text-align: center;\">Assignment 4</p>\n",
    "## <p style=\"text-align: center;\">Total points: 70</p>\n",
    "## <p style=\"text-align: center;\">Due: Tuesday, November 13th, submitted via Canvas by 11:59 pm</p>\n",
    "\n",
    "Your homework should be written in a **Jupyter notebook**. You may work in groups of two if you wish. Only one student per team needs to submit the assignment on Canvas.  **Please include the name and UTEID for both students on all submitted files (including this notebook).** In addition, please convert **your filename including your EID** (ex. ss324.jpynb or ss324_mj345.jpypb).\n",
    "\n",
    "Also, please make sure your code runs and the graphics (and anything else) are displayed in your notebook before submitting. (%matplotlib inline)"
   ]
  },
  {
   "cell_type": "markdown",
   "metadata": {},
   "source": [
    "# Question 1 - Reject Option (20 Points)\n"
   ]
  },
  {
   "cell_type": "markdown",
   "metadata": {},
   "source": [
    "For the Loss matrix given below, compute  the range of P(C1|x) where (i) It is best to call \"Class 1\", and (ii) where it is best to take the reject option."
   ]
  },
  {
   "cell_type": "markdown",
   "metadata": {},
   "source": [
    "![hw4-q1.png](hw4-q1.png)"
   ]
  },
  {
   "cell_type": "markdown",
   "metadata": {},
   "source": [
    "Loss of C1: 0\\*P(C1|x) + 4\\*(1-P(C1|x))\n",
    "Loss of C2: 6\\*(1-P(C2|x)) + 0\\*(P(C2|x)\n",
    "Loss of R: 2\\*(P(C1|x)) + 2\\*(P(C2|x))\n",
    "\n",
    "4\\*(1-y) = 6y => 4 = 10y => y = 0.4\n",
    "\n",
    "0.4 is the decision boundary\n",
    "\n",
    "y = P(C1|x)\n",
    "\n",
    "C1 bound of R:\n",
    "4\\*(1-y) = 2\\*y + 2\\*(1-y) => 4 - 4y = 2 => -2 = -4y => y = 0.5\n",
    "\n",
    "C2 bound of R:\n",
    "6y = 2\\*y + 2\\*(1-y) => y = 0.33\n",
    "\n",
    "i) When to choose Class 1: P(C1|x) > 0.5\n",
    "\n",
    "ii) When to choose reject option: P(C1|x) is between 0.33 and 0.5"
   ]
  },
  {
   "cell_type": "markdown",
   "metadata": {},
   "source": [
    "# Question 2 - Concepts (15 pts)"
   ]
  },
  {
   "cell_type": "markdown",
   "metadata": {},
   "source": [
    "1. (3+3+4 pts) Briefly describe what you understand by a Lift curve/chart? How is it similar to an ROC curve and in what way is it different? Provide an example where you might prefer using Lift (for a certain decile) over AUROC (AUC) as a point measure of the performance of your classifier. (Point measure means evaluation using a single numeric value.)\n",
    "\n",
    "\n",
    "2. (5 pts) Explain what it means to calibrate a classifier. Give an example of an application where having a well calibrated model is important, and it is not enough to just estimate what the most likely class label is for a given data point."
   ]
  },
  {
   "cell_type": "markdown",
   "metadata": {},
   "source": [
    "1) A lift curve shows the average accuracy of a classification model over an amount of bins. It is similar to an ROC curve as it evaluates correctness at different specifications (bins) and different in that it focuses more on accuracy than a ratio of TPR to FPR. An example for when it would be better to use lift over AUC is if you have a dataset where only the true positive rate or Sensitivity matters or matters far more than the TNR or specificity. This is also the case (using lift over ROC) if you are looking for accuracy with a particular sample of a population rather than the population as a whole."
   ]
  },
  {
   "cell_type": "markdown",
   "metadata": {},
   "source": [
    "2)Calibration adjusts the posterior probability so that the probability reflects the true probability of the class. The best way to do this is by sorting and binning the posteriori of the model and then observing the amount of classes in each bin. As an example if we had a bin of a C1 posteriori that belongs to [0%, 10%] and if the observed class is proporting is about 5% of the total set, than we can say the model is well-calibrated. If this is not the case  than as stated before the underlying posterior probability of the class is not truely reflceted by the model.\n",
    "As long as the decision selected by the model is the most likely class, the mistake rate will be minimized. Therefore, the non-calibrated model would work for cases where we were seeking to minimize the mistake rtae or cases where trhe loss matrix is symmetric. However if the loss matrix is non-symetric, the exact posteriori matters not the greatest posteriori. If you had a two-class model with the loss as followed(from text),(predicted as 1, true as 1) = -1; (predicted as 1, true as 2) = 3; (predicted as 2, true as 1) = 1; (predicted as 2, true as 2) = 0, its decision boundary would be near 0.6. For posteriori where P(C1|X) > 0.6 when uncalibrated, but where 0.5 < P(C1|X) < 0.6 after calibration, this model will make mistakes and therfore fail to minimize loss. "
   ]
  },
  {
   "cell_type": "markdown",
   "metadata": {},
   "source": [
    "# Question 3 - MNIST Classification (20 pts)\n",
    "\n",
    "In this problem, you will classify between digits 8 and 9 of the MNIST dataset using Logistic Regression, Naive Bayes, and MLP. The code below loads the dataset, splits it into training and testing sets, and extracts the images containing either 8 or 9. The modules you will need from scikit-learn are loaded for you.\n",
    "\n",
    "1. Train Logistic Regression, (Gaussian) Naive Bayes, and MLP classifiers. Extract the probability of the class being 'Digit 8' or 'Digit 9' for every row.\n",
    "\n",
    "2. (6 pts) Use this to plot the receiver operating characteristic (ROC) curve. (one figure for all 3 models, with a label for each line)\n",
    "\n",
    "3. (6 pts) Report the area under the ROC curve (AUC) and the accuracy for each model.\n",
    "\n",
    "4. (6 pts)  For each of the 3 models, show a scatterplot of the obtained posterior probability estimates  vs. ground truth label value, for the data points in the test set. \n",
    "\n",
    "5. (2 pts) What do you notice about the distribution of the Naive Bayes estimated posterior probability values compared to the estimates from the other two models? "
   ]
  },
  {
   "cell_type": "code",
   "execution_count": 2,
   "metadata": {},
   "outputs": [
    {
     "name": "stderr",
     "output_type": "stream",
     "text": [
      "/anaconda3/lib/python3.6/site-packages/sklearn/utils/deprecation.py:77: DeprecationWarning: Function fetch_mldata is deprecated; fetch_mldata was deprecated in version 0.20 and will be removed in version 0.22\n",
      "  warnings.warn(msg, category=DeprecationWarning)\n",
      "/anaconda3/lib/python3.6/site-packages/sklearn/utils/deprecation.py:77: DeprecationWarning: Function mldata_filename is deprecated; mldata_filename was deprecated in version 0.20 and will be removed in version 0.22\n",
      "  warnings.warn(msg, category=DeprecationWarning)\n"
     ]
    }
   ],
   "source": [
    "%matplotlib inline\n",
    "import pandas as pd\n",
    "from sklearn.model_selection import train_test_split\n",
    "from sklearn.metrics import roc_curve, roc_auc_score\n",
    "from sklearn.naive_bayes import GaussianNB\n",
    "from sklearn.linear_model import LogisticRegression\n",
    "from sklearn.neural_network import MLPClassifier\n",
    "import numpy as np\n",
    "import matplotlib.pyplot as plt\n",
    "\n",
    "from sklearn.datasets import fetch_mldata\n",
    "\n",
    "mnist = fetch_mldata(\"MNIST original\", data_home='./dataset/')  # data downloaded in'./dataset/', change if necessary\n",
    "\n",
    "X= (mnist.data / 255.)\n",
    "y = mnist.target\n",
    "\n",
    "num_train = 60000\n",
    "idxs_perm = np.random.permutation(X.shape[0])\n",
    "idxs_train = idxs_perm[:num_train]\n",
    "idxs_test = idxs_perm[num_train:]"
   ]
  },
  {
   "cell_type": "code",
   "execution_count": 3,
   "metadata": {},
   "outputs": [],
   "source": [
    "X_train = X[idxs_train]\n",
    "y_train = y[idxs_train]\n",
    "X_test = X[idxs_test]\n",
    "y_test = y[idxs_test]"
   ]
  },
  {
   "cell_type": "code",
   "execution_count": 4,
   "metadata": {},
   "outputs": [
    {
     "name": "stdout",
     "output_type": "stream",
     "text": [
      "(11859, 784) (11859,) (1924, 784) (1924,)\n"
     ]
    }
   ],
   "source": [
    "digits = [8, 9]\n",
    "idx = (y_train == digits[0]) + (y_train==digits[1])\n",
    "X_train = X_train[idx]\n",
    "y_train = y_train[idx]\n",
    "y_train = (y_train-digits[0])\n",
    "\n",
    "idx = (y_test == digits[0]) + (y_test==digits[1])\n",
    "X_test = X_test[idx]\n",
    "y_test = y_test[idx]\n",
    "y_test = (y_test-digits[0])\n",
    "\n",
    "print(X_train.shape, y_train.shape, X_test.shape, y_test.shape)"
   ]
  },
  {
   "cell_type": "code",
   "execution_count": 5,
   "metadata": {},
   "outputs": [
    {
     "name": "stderr",
     "output_type": "stream",
     "text": [
      "/anaconda3/lib/python3.6/site-packages/sklearn/linear_model/logistic.py:757: ConvergenceWarning: lbfgs failed to converge. Increase the number of iterations.\n",
      "  \"of iterations.\", ConvergenceWarning)\n"
     ]
    },
    {
     "data": {
      "text/html": [
       "<div>\n",
       "<style scoped>\n",
       "    .dataframe tbody tr th:only-of-type {\n",
       "        vertical-align: middle;\n",
       "    }\n",
       "\n",
       "    .dataframe tbody tr th {\n",
       "        vertical-align: top;\n",
       "    }\n",
       "\n",
       "    .dataframe thead th {\n",
       "        text-align: right;\n",
       "    }\n",
       "</style>\n",
       "<table border=\"1\" class=\"dataframe\">\n",
       "  <thead>\n",
       "    <tr style=\"text-align: right;\">\n",
       "      <th></th>\n",
       "      <th>Digit 8</th>\n",
       "      <th>Digit 9</th>\n",
       "    </tr>\n",
       "  </thead>\n",
       "  <tbody>\n",
       "    <tr>\n",
       "      <th>0</th>\n",
       "      <td>0.0010</td>\n",
       "      <td>0.9990</td>\n",
       "    </tr>\n",
       "    <tr>\n",
       "      <th>1</th>\n",
       "      <td>0.0019</td>\n",
       "      <td>0.9981</td>\n",
       "    </tr>\n",
       "    <tr>\n",
       "      <th>2</th>\n",
       "      <td>0.9942</td>\n",
       "      <td>0.0058</td>\n",
       "    </tr>\n",
       "    <tr>\n",
       "      <th>3</th>\n",
       "      <td>1.0000</td>\n",
       "      <td>0.0000</td>\n",
       "    </tr>\n",
       "    <tr>\n",
       "      <th>4</th>\n",
       "      <td>0.9998</td>\n",
       "      <td>0.0002</td>\n",
       "    </tr>\n",
       "  </tbody>\n",
       "</table>\n",
       "</div>"
      ],
      "text/plain": [
       "   Digit 8  Digit 9\n",
       "0   0.0010   0.9990\n",
       "1   0.0019   0.9981\n",
       "2   0.9942   0.0058\n",
       "3   1.0000   0.0000\n",
       "4   0.9998   0.0002"
      ]
     },
     "execution_count": 5,
     "metadata": {},
     "output_type": "execute_result"
    }
   ],
   "source": [
    "# Model Training - Logistic\n",
    "logmodel = LogisticRegression(random_state=42, solver='lbfgs',multi_class='multinomial')\n",
    "logmodel.fit(X_train, y_train)\n",
    "\n",
    "logprobs = np.round(logmodel.predict_proba(X_test),decimals=4)\n",
    "logprobabilities = pd.DataFrame(logprobs, columns=['Digit 8','Digit 9'])\n",
    "logprobabilities.head(5)"
   ]
  },
  {
   "cell_type": "code",
   "execution_count": 6,
   "metadata": {},
   "outputs": [
    {
     "data": {
      "text/html": [
       "<div>\n",
       "<style scoped>\n",
       "    .dataframe tbody tr th:only-of-type {\n",
       "        vertical-align: middle;\n",
       "    }\n",
       "\n",
       "    .dataframe tbody tr th {\n",
       "        vertical-align: top;\n",
       "    }\n",
       "\n",
       "    .dataframe thead th {\n",
       "        text-align: right;\n",
       "    }\n",
       "</style>\n",
       "<table border=\"1\" class=\"dataframe\">\n",
       "  <thead>\n",
       "    <tr style=\"text-align: right;\">\n",
       "      <th></th>\n",
       "      <th>Digit 8</th>\n",
       "      <th>Digit 9</th>\n",
       "    </tr>\n",
       "  </thead>\n",
       "  <tbody>\n",
       "    <tr>\n",
       "      <th>0</th>\n",
       "      <td>0.000</td>\n",
       "      <td>1.000</td>\n",
       "    </tr>\n",
       "    <tr>\n",
       "      <th>1</th>\n",
       "      <td>0.000</td>\n",
       "      <td>1.000</td>\n",
       "    </tr>\n",
       "    <tr>\n",
       "      <th>2</th>\n",
       "      <td>0.000</td>\n",
       "      <td>1.000</td>\n",
       "    </tr>\n",
       "    <tr>\n",
       "      <th>3</th>\n",
       "      <td>1.000</td>\n",
       "      <td>0.000</td>\n",
       "    </tr>\n",
       "    <tr>\n",
       "      <th>4</th>\n",
       "      <td>0.156</td>\n",
       "      <td>0.844</td>\n",
       "    </tr>\n",
       "  </tbody>\n",
       "</table>\n",
       "</div>"
      ],
      "text/plain": [
       "   Digit 8  Digit 9\n",
       "0    0.000    1.000\n",
       "1    0.000    1.000\n",
       "2    0.000    1.000\n",
       "3    1.000    0.000\n",
       "4    0.156    0.844"
      ]
     },
     "execution_count": 6,
     "metadata": {},
     "output_type": "execute_result"
    }
   ],
   "source": [
    "# Part I - Model Training\n",
    "# Model Training - Naive Bayes\n",
    "gnb = GaussianNB()\n",
    "gnb.fit(X_train, y_train)\n",
    "\n",
    "gnbprobs = np.round(gnb.predict_proba(X_test),decimals=4)\n",
    "gnbprobabilities = pd.DataFrame(gnbprobs, columns=['Digit 8','Digit 9'])\n",
    "gnbprobabilities.head(5)"
   ]
  },
  {
   "cell_type": "code",
   "execution_count": 7,
   "metadata": {},
   "outputs": [
    {
     "data": {
      "text/html": [
       "<div>\n",
       "<style scoped>\n",
       "    .dataframe tbody tr th:only-of-type {\n",
       "        vertical-align: middle;\n",
       "    }\n",
       "\n",
       "    .dataframe tbody tr th {\n",
       "        vertical-align: top;\n",
       "    }\n",
       "\n",
       "    .dataframe thead th {\n",
       "        text-align: right;\n",
       "    }\n",
       "</style>\n",
       "<table border=\"1\" class=\"dataframe\">\n",
       "  <thead>\n",
       "    <tr style=\"text-align: right;\">\n",
       "      <th></th>\n",
       "      <th>Digit 8</th>\n",
       "      <th>Digit 9</th>\n",
       "    </tr>\n",
       "  </thead>\n",
       "  <tbody>\n",
       "    <tr>\n",
       "      <th>0</th>\n",
       "      <td>0.0001</td>\n",
       "      <td>0.9999</td>\n",
       "    </tr>\n",
       "    <tr>\n",
       "      <th>1</th>\n",
       "      <td>0.0000</td>\n",
       "      <td>1.0000</td>\n",
       "    </tr>\n",
       "    <tr>\n",
       "      <th>2</th>\n",
       "      <td>0.9995</td>\n",
       "      <td>0.0005</td>\n",
       "    </tr>\n",
       "    <tr>\n",
       "      <th>3</th>\n",
       "      <td>0.9999</td>\n",
       "      <td>0.0001</td>\n",
       "    </tr>\n",
       "    <tr>\n",
       "      <th>4</th>\n",
       "      <td>1.0000</td>\n",
       "      <td>0.0000</td>\n",
       "    </tr>\n",
       "  </tbody>\n",
       "</table>\n",
       "</div>"
      ],
      "text/plain": [
       "   Digit 8  Digit 9\n",
       "0   0.0001   0.9999\n",
       "1   0.0000   1.0000\n",
       "2   0.9995   0.0005\n",
       "3   0.9999   0.0001\n",
       "4   1.0000   0.0000"
      ]
     },
     "execution_count": 7,
     "metadata": {},
     "output_type": "execute_result"
    }
   ],
   "source": [
    "# Model Training - MLP\n",
    "\n",
    "from sklearn.model_selection import KFold\n",
    "from sklearn.metrics import mean_squared_error\n",
    "\n",
    "# Cross validation to find best MLP size -> Optimal Size = 50\n",
    "#size = [2, 10, 30, 50]\n",
    "#for i in size:\n",
    "#    MLP = MLPClassifier(hidden_layer_sizes = (i,),activation = 'tanh', solver = 'sgd', learning_rate='constant', \n",
    "#                       random_state=42,batch_size=30, learning_rate_init = 0.005)\n",
    "#    n_folds = 5\n",
    "#    kfold = KFold(n_splits = n_folds)\n",
    "#    avg_rmse = 0\n",
    "#    for train, test in kfold.split(X_train):\n",
    "#        MLP.fit(X_train[train], y_train[train])\n",
    "#        avg_rmse = avg_rmse + np.sqrt(mean_squared_error(y_train[test], MLP.predict(X_train[test])))\n",
    "#    print 'Average RMSE for ' + str(i) + ' hidden layers is: ' + str(avg_rmse/n_folds)\n",
    "\n",
    "MLP = MLPClassifier(hidden_layer_sizes = (50,),activation = 'tanh', solver = 'sgd', learning_rate='constant', \n",
    "                    random_state=42,batch_size=30, learning_rate_init = 0.005)\n",
    "MLP.fit(X_train, y_train)\n",
    "\n",
    "mlpprobs = np.round(MLP.predict_proba(X_test),decimals=4)\n",
    "mlpprobabilities = pd.DataFrame(mlpprobs, columns=['Digit 8','Digit 9'])\n",
    "mlpprobabilities.head(5)"
   ]
  },
  {
   "cell_type": "code",
   "execution_count": 8,
   "metadata": {},
   "outputs": [
    {
     "data": {
      "image/png": "[encoded data removed]",
      "text/plain": [
       "<Figure size 432x288 with 1 Axes>"
      ]
     },
     "metadata": {
      "needs_background": "light"
     },
     "output_type": "display_data"
    }
   ],
   "source": [
    "# Part II - ROC Curves\n",
    "\n",
    "fpr_log, tpr_log, thresholds_log = roc_curve(y_test, logprobabilities['Digit 9'].values)\n",
    "fpr_gnb, tpr_gnb, thresholds_gnb = roc_curve(y_test, gnbprobabilities['Digit 9'].values)\n",
    "fpr_mlp, tpr_mlp, thresholds_mlp = roc_curve(y_test, mlpprobabilities['Digit 9'].values)\n",
    "\n",
    "plt.figure()\n",
    "lw = 2\n",
    "plt.plot(fpr_log, tpr_log, color='darkorange',\n",
    "         lw=lw, label='Logistic')\n",
    "plt.plot(fpr_gnb, tpr_gnb, color='darkred',\n",
    "         lw=lw, label='Naive Bayes')\n",
    "plt.plot(fpr_mlp, tpr_mlp, color='darkgreen',\n",
    "         lw=lw, label='MLP')\n",
    "plt.plot([0, 1], [0, 1], color='navy', lw=lw, linestyle='--')\n",
    "plt.xlim([-0.05, 1.1])\n",
    "plt.ylim([0.0, 1.05])\n",
    "plt.xlabel('False Positive Rate')\n",
    "plt.ylabel('True Positive Rate')\n",
    "plt.title('Receiver operating characteristic example')\n",
    "plt.legend(loc=\"lower right\")\n",
    "plt.show()"
   ]
  },
  {
   "cell_type": "code",
   "execution_count": 9,
   "metadata": {},
   "outputs": [
    {
     "name": "stdout",
     "output_type": "stream",
     "text": [
      "AUROC of Logistic Model: 0.9969401191708893\n",
      "Accuracy of Logistic Model: 0.9797297297297297\n",
      "AUROC of Naive Bayes Model: 0.9017272962360653\n",
      "Accuracy of Naive Bayes Model: 0.8981288981288982\n",
      "AUROC of MLP Model: 0.9991922910046213\n",
      "Accuracy of MLP Model: 0.9948024948024948\n"
     ]
    }
   ],
   "source": [
    "# Part III - AUROC and Accuracy\n",
    "\n",
    "from sklearn.metrics import (confusion_matrix, accuracy_score)\n",
    "\n",
    "print('AUROC of Logistic Model: ' + str(roc_auc_score(y_test, logprobabilities['Digit 9'].values)))\n",
    "print('Accuracy of Logistic Model: ' + str(accuracy_score(y_test, logmodel.predict(X_test))))\n",
    "print('AUROC of Naive Bayes Model: ' + str(roc_auc_score(y_test, gnbprobabilities['Digit 9'].values)))\n",
    "print('Accuracy of Naive Bayes Model: ' + str(accuracy_score(y_test, gnb.predict(X_test))))\n",
    "print('AUROC of MLP Model: ' + str(roc_auc_score(y_test, mlpprobabilities['Digit 9'].values)))\n",
    "print('Accuracy of MLP Model: ' + str(accuracy_score(y_test, MLP.predict(X_test))))"
   ]
  },
  {
   "cell_type": "code",
   "execution_count": 24,
   "metadata": {},
   "outputs": [
    {
     "data": {
      "text/plain": [
       "Text(0, 0.5, 'MLP - Probability')"
      ]
     },
     "execution_count": 24,
     "metadata": {},
     "output_type": "execute_result"
    },
    {
     "data": {
      "image/png": "[encoded data removed]",
      "text/plain": [
       "<Figure size 432x288 with 1 Axes>"
      ]
     },
     "metadata": {
      "needs_background": "light"
     },
     "output_type": "display_data"
    },
    {
     "data": {
      "image/png": "[encoded data removed]",
      "text/plain": [
       "<Figure size 432x288 with 1 Axes>"
      ]
     },
     "metadata": {
      "needs_background": "light"
     },
     "output_type": "display_data"
    },
    {
     "data": {
      "image/png": "[encoded data removed]",
      "text/plain": [
       "<Figure size 432x288 with 1 Axes>"
      ]
     },
     "metadata": {
      "needs_background": "light"
     },
     "output_type": "display_data"
    }
   ],
   "source": [
    "# Part IV - Posterior Probabilities vs Ground Truth Labels Scatter plots\n",
    "\n",
    "ax_log = logprobabilities.reset_index().plot.scatter(x='index', y='Digit 8', color='DarkBlue', label='Digit 8')\n",
    "logprobabilities.reset_index().plot.scatter(x='index', y='Digit 9', color='Red', \n",
    "                                            label='Digit 9', ax=ax_log).set_ylabel('Logistic - Probability')\n",
    "\n",
    "ax_gnb = gnbprobabilities.reset_index().plot.scatter(x='index', y='Digit 8', color='DarkBlue', label='Digit 8')\n",
    "gnbprobabilities.reset_index().plot.scatter(x='index', y='Digit 9', color='Red', \n",
    "                                            label='Digit 9', ax=ax_gnb).set_ylabel('NB - Probability')\n",
    "\n",
    "ax_mlp = mlpprobabilities.reset_index().plot.scatter(x='index', y='Digit 8', color='DarkBlue', label='Digit 8')\n",
    "mlpprobabilities.reset_index().plot.scatter(x='index', y='Digit 9', color='Red', \n",
    "                                            label='Digit 9', ax=ax_mlp).set_ylabel('MLP - Probability')"
   ]
  },
  {
   "cell_type": "markdown",
   "metadata": {},
   "source": [
    "### Part V\n",
    "\n",
    "We notice that Naive Bayes is more prone to setting posterior probabilities of the classes at the two extremes. This means that it is hardly affected by threshold changes for making decisions, while the other methods are. This is why the ROC curve has such a sharp elbow for Naive Bayes."
   ]
  }
 ],
 "metadata": {
  "kernelspec": {
   "display_name": "Python 3",
   "language": "python",
   "name": "python3"
  },
  "language_info": {
   "codemirror_mode": {
    "name": "ipython",
    "version": 3
   },
   "file_extension": ".py",
   "mimetype": "text/x-python",
   "name": "python",
   "nbconvert_exporter": "python",
   "pygments_lexer": "ipython3",
   "version": "3.6.6"
  }
 },
 "nbformat": 4,
 "nbformat_minor": 2
}
